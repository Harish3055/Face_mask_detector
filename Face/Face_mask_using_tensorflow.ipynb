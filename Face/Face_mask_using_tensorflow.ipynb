{
 "cells": [
  {
   "cell_type": "code",
   "execution_count": null,
   "metadata": {},
   "outputs": [],
   "source": [
    "import tensorflow.keras\n",
    "from PIL import Image,ImageOps\n",
    "import numpy as np"
   ]
  },
  {
   "cell_type": "code",
   "execution_count": null,
   "metadata": {},
   "outputs": [],
   "source": [
    "np.set_printoptions(suppress=True)\n",
    "model=tensorflow.keras.models.load_model('my_mask_model_2.h5')\n",
    "data=np.ndarray(shape=(1,224,224,3),dtype=np.float32)\n",
    "def yn(img):\n",
    "    image=img\n",
    "    size=(224,224)\n",
    "    image=ImageOps.fit(image,size,Image.ANTIALIAS)\n",
    "    image_array=np.asarray(image)\n",
    "    normalized_image_array=(image_array.astype(np.float32)/127.00)-1\n",
    "    data[0]=normalized_image_array\n",
    "    prediction=model.predict(data)[0]\n",
    "    print(prediction)\n",
    "    if prediction[0][1]<0.3:\n",
    "        return(0)\n",
    "    else:\n",
    "        return(1)"
   ]
  },
  {
   "cell_type": "code",
   "execution_count": null,
   "metadata": {},
   "outputs": [],
   "source": [
    "import cv2\n",
    "cap=cv2.VideoCapture(0)\n",
    "font = cv2.FONT_HERSHEY_PLAIN\n",
    "cascade= cv2.CascadeClassifier('haarcascade_frontalface_default.xml')\n",
    "while True:\n",
    "    _,img=cap.read()\n",
    "\n",
    "    if _ ==True:\n",
    "        img=cv2.resize(img,(740,540))\n",
    "        gray=cv2.cvtColor(img,cv2.COLOR_BGR2GRAY)\n",
    "        canny=cv2.cvtColor(img,cv2.COLOR_BGR2GRAY)\n",
    "        faces = cascade.detectMultiScale(gray, 1.3, 5)\n",
    "        for (x,y,w,h) in faces:\n",
    "            test=img[y:y+h,x:x+w]\n",
    "            test=cv2.cvtColor(test,cv2.COLOR_BGR2RGB)\n",
    "            test=Image.fromarray(test)\n",
    "            if yn(test)==1:\n",
    "                img = cv2.rectangle(img,(x,y),(x+w,y+h),(0,255,0),2)\n",
    "                cv2.putText(img, \"With_mask\", (x, y - 10),font, 3, (0,255,0), 3)\n",
    "            else:\n",
    "                img=cv2.rectangle(img,(x,y),(x+w,y+h),(0,0,255),2)\n",
    "                cv2.putText(img, \"Without_mask\", (x, y - 10), font, 3,(0,0,255), 3)\n",
    "        cv2.imshow('img',img)\n",
    "        if cv2.waitKey(1) & 0xFF == ord('q'):\n",
    "            break\n",
    "    else:\n",
    "        print('False')\n",
    "        break\n",
    "cv2.destroyAllWindows()   \n",
    "cap"
   ]
  },
  {
   "cell_type": "code",
   "execution_count": 55,
   "metadata": {},
   "outputs": [
    {
     "data": {
      "text/plain": [
       "\"\\na=image2byte(a)\\na=byte2image(a)\\ncv2.imshow('a',a)\\ncv2.waitKey(0)\\ncv2.destroyAllWindows()\\n\""
      ]
     },
     "execution_count": 55,
     "metadata": {},
     "output_type": "execute_result"
    }
   ],
   "source": [
    "#im_np=np.asarray(im_pil)\n",
    "'''\n",
    "a=image2byte(a)\n",
    "a=byte2image(a)\n",
    "cv2.imshow('a',a)\n",
    "cv2.waitKey(0)\n",
    "cv2.destroyAllWindows()\n",
    "'''"
   ]
  },
  {
   "cell_type": "code",
   "execution_count": null,
   "metadata": {},
   "outputs": [],
   "source": []
  }
 ],
 "metadata": {
  "kernelspec": {
   "display_name": "Python 3",
   "language": "python",
   "name": "python3"
  },
  "language_info": {
   "codemirror_mode": {
    "name": "ipython",
    "version": 3
   },
   "file_extension": ".py",
   "mimetype": "text/x-python",
   "name": "python",
   "nbconvert_exporter": "python",
   "pygments_lexer": "ipython3",
   "version": "3.8.5"
  }
 },
 "nbformat": 4,
 "nbformat_minor": 4
}
